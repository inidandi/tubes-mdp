{
  "nbformat": 4,
  "nbformat_minor": 0,
  "metadata": {
    "colab": {
      "provenance": []
    },
    "kernelspec": {
      "name": "python3",
      "display_name": "Python 3"
    },
    "language_info": {
      "name": "python"
    }
  },
  "cells": [
    {
      "cell_type": "code",
      "source": [
        "import numpy as np\n",
        "import pandas as pd\n",
        "from sklearn.preprocessing import StandardScaler, LabelEncoder\n",
        "from sklearn.svm import SVC\n",
        "from sklearn.model_selection import train_test_split, GridSearchCV\n",
        "from sklearn.metrics import accuracy_score\n",
        "import seaborn as sns"
      ],
      "metadata": {
        "id": "_QmNdNU0FSsV"
      },
      "execution_count": 333,
      "outputs": []
    },
    {
      "cell_type": "code",
      "execution_count": 334,
      "metadata": {
        "colab": {
          "base_uri": "https://localhost:8080/",
          "height": 206
        },
        "id": "BRU2hHpHBLC7",
        "outputId": "cfe01a24-59c5-4590-bb5b-a51e9f9a9676"
      },
      "outputs": [
        {
          "output_type": "execute_result",
          "data": {
            "text/plain": [
              "      id  gender   age  hypertension  heart_disease ever_married  \\\n",
              "0   9046    Male  67.0             0              1          Yes   \n",
              "1  51676  Female  61.0             0              0          Yes   \n",
              "2  31112    Male  80.0             0              1          Yes   \n",
              "3  60182  Female  49.0             0              0          Yes   \n",
              "4   1665  Female  79.0             1              0          Yes   \n",
              "\n",
              "       work_type Residence_type  avg_glucose_level   bmi   smoking_status  \\\n",
              "0        Private          Urban             228.69  36.6  formerly smoked   \n",
              "1  Self-employed          Rural             202.21   NaN     never smoked   \n",
              "2        Private          Rural             105.92  32.5     never smoked   \n",
              "3        Private          Urban             171.23  34.4           smokes   \n",
              "4  Self-employed          Rural             174.12  24.0     never smoked   \n",
              "\n",
              "   stroke  \n",
              "0       1  \n",
              "1       1  \n",
              "2       1  \n",
              "3       1  \n",
              "4       1  "
            ],
            "text/html": [
              "\n",
              "  <div id=\"df-35c1fcb0-d7e5-415b-b5e9-d0a3ae24ad2e\">\n",
              "    <div class=\"colab-df-container\">\n",
              "      <div>\n",
              "<style scoped>\n",
              "    .dataframe tbody tr th:only-of-type {\n",
              "        vertical-align: middle;\n",
              "    }\n",
              "\n",
              "    .dataframe tbody tr th {\n",
              "        vertical-align: top;\n",
              "    }\n",
              "\n",
              "    .dataframe thead th {\n",
              "        text-align: right;\n",
              "    }\n",
              "</style>\n",
              "<table border=\"1\" class=\"dataframe\">\n",
              "  <thead>\n",
              "    <tr style=\"text-align: right;\">\n",
              "      <th></th>\n",
              "      <th>id</th>\n",
              "      <th>gender</th>\n",
              "      <th>age</th>\n",
              "      <th>hypertension</th>\n",
              "      <th>heart_disease</th>\n",
              "      <th>ever_married</th>\n",
              "      <th>work_type</th>\n",
              "      <th>Residence_type</th>\n",
              "      <th>avg_glucose_level</th>\n",
              "      <th>bmi</th>\n",
              "      <th>smoking_status</th>\n",
              "      <th>stroke</th>\n",
              "    </tr>\n",
              "  </thead>\n",
              "  <tbody>\n",
              "    <tr>\n",
              "      <th>0</th>\n",
              "      <td>9046</td>\n",
              "      <td>Male</td>\n",
              "      <td>67.0</td>\n",
              "      <td>0</td>\n",
              "      <td>1</td>\n",
              "      <td>Yes</td>\n",
              "      <td>Private</td>\n",
              "      <td>Urban</td>\n",
              "      <td>228.69</td>\n",
              "      <td>36.6</td>\n",
              "      <td>formerly smoked</td>\n",
              "      <td>1</td>\n",
              "    </tr>\n",
              "    <tr>\n",
              "      <th>1</th>\n",
              "      <td>51676</td>\n",
              "      <td>Female</td>\n",
              "      <td>61.0</td>\n",
              "      <td>0</td>\n",
              "      <td>0</td>\n",
              "      <td>Yes</td>\n",
              "      <td>Self-employed</td>\n",
              "      <td>Rural</td>\n",
              "      <td>202.21</td>\n",
              "      <td>NaN</td>\n",
              "      <td>never smoked</td>\n",
              "      <td>1</td>\n",
              "    </tr>\n",
              "    <tr>\n",
              "      <th>2</th>\n",
              "      <td>31112</td>\n",
              "      <td>Male</td>\n",
              "      <td>80.0</td>\n",
              "      <td>0</td>\n",
              "      <td>1</td>\n",
              "      <td>Yes</td>\n",
              "      <td>Private</td>\n",
              "      <td>Rural</td>\n",
              "      <td>105.92</td>\n",
              "      <td>32.5</td>\n",
              "      <td>never smoked</td>\n",
              "      <td>1</td>\n",
              "    </tr>\n",
              "    <tr>\n",
              "      <th>3</th>\n",
              "      <td>60182</td>\n",
              "      <td>Female</td>\n",
              "      <td>49.0</td>\n",
              "      <td>0</td>\n",
              "      <td>0</td>\n",
              "      <td>Yes</td>\n",
              "      <td>Private</td>\n",
              "      <td>Urban</td>\n",
              "      <td>171.23</td>\n",
              "      <td>34.4</td>\n",
              "      <td>smokes</td>\n",
              "      <td>1</td>\n",
              "    </tr>\n",
              "    <tr>\n",
              "      <th>4</th>\n",
              "      <td>1665</td>\n",
              "      <td>Female</td>\n",
              "      <td>79.0</td>\n",
              "      <td>1</td>\n",
              "      <td>0</td>\n",
              "      <td>Yes</td>\n",
              "      <td>Self-employed</td>\n",
              "      <td>Rural</td>\n",
              "      <td>174.12</td>\n",
              "      <td>24.0</td>\n",
              "      <td>never smoked</td>\n",
              "      <td>1</td>\n",
              "    </tr>\n",
              "  </tbody>\n",
              "</table>\n",
              "</div>\n",
              "      <button class=\"colab-df-convert\" onclick=\"convertToInteractive('df-35c1fcb0-d7e5-415b-b5e9-d0a3ae24ad2e')\"\n",
              "              title=\"Convert this dataframe to an interactive table.\"\n",
              "              style=\"display:none;\">\n",
              "        \n",
              "  <svg xmlns=\"http://www.w3.org/2000/svg\" height=\"24px\"viewBox=\"0 0 24 24\"\n",
              "       width=\"24px\">\n",
              "    <path d=\"M0 0h24v24H0V0z\" fill=\"none\"/>\n",
              "    <path d=\"M18.56 5.44l.94 2.06.94-2.06 2.06-.94-2.06-.94-.94-2.06-.94 2.06-2.06.94zm-11 1L8.5 8.5l.94-2.06 2.06-.94-2.06-.94L8.5 2.5l-.94 2.06-2.06.94zm10 10l.94 2.06.94-2.06 2.06-.94-2.06-.94-.94-2.06-.94 2.06-2.06.94z\"/><path d=\"M17.41 7.96l-1.37-1.37c-.4-.4-.92-.59-1.43-.59-.52 0-1.04.2-1.43.59L10.3 9.45l-7.72 7.72c-.78.78-.78 2.05 0 2.83L4 21.41c.39.39.9.59 1.41.59.51 0 1.02-.2 1.41-.59l7.78-7.78 2.81-2.81c.8-.78.8-2.07 0-2.86zM5.41 20L4 18.59l7.72-7.72 1.47 1.35L5.41 20z\"/>\n",
              "  </svg>\n",
              "      </button>\n",
              "      \n",
              "  <style>\n",
              "    .colab-df-container {\n",
              "      display:flex;\n",
              "      flex-wrap:wrap;\n",
              "      gap: 12px;\n",
              "    }\n",
              "\n",
              "    .colab-df-convert {\n",
              "      background-color: #E8F0FE;\n",
              "      border: none;\n",
              "      border-radius: 50%;\n",
              "      cursor: pointer;\n",
              "      display: none;\n",
              "      fill: #1967D2;\n",
              "      height: 32px;\n",
              "      padding: 0 0 0 0;\n",
              "      width: 32px;\n",
              "    }\n",
              "\n",
              "    .colab-df-convert:hover {\n",
              "      background-color: #E2EBFA;\n",
              "      box-shadow: 0px 1px 2px rgba(60, 64, 67, 0.3), 0px 1px 3px 1px rgba(60, 64, 67, 0.15);\n",
              "      fill: #174EA6;\n",
              "    }\n",
              "\n",
              "    [theme=dark] .colab-df-convert {\n",
              "      background-color: #3B4455;\n",
              "      fill: #D2E3FC;\n",
              "    }\n",
              "\n",
              "    [theme=dark] .colab-df-convert:hover {\n",
              "      background-color: #434B5C;\n",
              "      box-shadow: 0px 1px 3px 1px rgba(0, 0, 0, 0.15);\n",
              "      filter: drop-shadow(0px 1px 2px rgba(0, 0, 0, 0.3));\n",
              "      fill: #FFFFFF;\n",
              "    }\n",
              "  </style>\n",
              "\n",
              "      <script>\n",
              "        const buttonEl =\n",
              "          document.querySelector('#df-35c1fcb0-d7e5-415b-b5e9-d0a3ae24ad2e button.colab-df-convert');\n",
              "        buttonEl.style.display =\n",
              "          google.colab.kernel.accessAllowed ? 'block' : 'none';\n",
              "\n",
              "        async function convertToInteractive(key) {\n",
              "          const element = document.querySelector('#df-35c1fcb0-d7e5-415b-b5e9-d0a3ae24ad2e');\n",
              "          const dataTable =\n",
              "            await google.colab.kernel.invokeFunction('convertToInteractive',\n",
              "                                                     [key], {});\n",
              "          if (!dataTable) return;\n",
              "\n",
              "          const docLinkHtml = 'Like what you see? Visit the ' +\n",
              "            '<a target=\"_blank\" href=https://colab.research.google.com/notebooks/data_table.ipynb>data table notebook</a>'\n",
              "            + ' to learn more about interactive tables.';\n",
              "          element.innerHTML = '';\n",
              "          dataTable['output_type'] = 'display_data';\n",
              "          await google.colab.output.renderOutput(dataTable, element);\n",
              "          const docLink = document.createElement('div');\n",
              "          docLink.innerHTML = docLinkHtml;\n",
              "          element.appendChild(docLink);\n",
              "        }\n",
              "      </script>\n",
              "    </div>\n",
              "  </div>\n",
              "  "
            ]
          },
          "metadata": {},
          "execution_count": 334
        }
      ],
      "source": [
        "# Load Data\n",
        "data = pd.read_csv('https://raw.githubusercontent.com/inidandi/tubes-mdp/main/healthcare-dataset-stroke-data.csv', delimiter=',', encoding='UTF-8')\n",
        "\n",
        "# Menampilkan Data (5 baris pertama)\n",
        "data.head()"
      ]
    },
    {
      "cell_type": "code",
      "source": [
        "# Mengecek informasi dataset\n",
        "data.info()"
      ],
      "metadata": {
        "colab": {
          "base_uri": "https://localhost:8080/"
        },
        "id": "8OzyIvMxKVCV",
        "outputId": "e39d22e8-cb1d-4e30-f47e-cc2a59a409dc"
      },
      "execution_count": 335,
      "outputs": [
        {
          "output_type": "stream",
          "name": "stdout",
          "text": [
            "<class 'pandas.core.frame.DataFrame'>\n",
            "RangeIndex: 5110 entries, 0 to 5109\n",
            "Data columns (total 12 columns):\n",
            " #   Column             Non-Null Count  Dtype  \n",
            "---  ------             --------------  -----  \n",
            " 0   id                 5110 non-null   int64  \n",
            " 1   gender             5110 non-null   object \n",
            " 2   age                5110 non-null   float64\n",
            " 3   hypertension       5110 non-null   int64  \n",
            " 4   heart_disease      5110 non-null   int64  \n",
            " 5   ever_married       5110 non-null   object \n",
            " 6   work_type          5110 non-null   object \n",
            " 7   Residence_type     5110 non-null   object \n",
            " 8   avg_glucose_level  5110 non-null   float64\n",
            " 9   bmi                4909 non-null   float64\n",
            " 10  smoking_status     5110 non-null   object \n",
            " 11  stroke             5110 non-null   int64  \n",
            "dtypes: float64(3), int64(4), object(5)\n",
            "memory usage: 479.2+ KB\n"
          ]
        }
      ]
    },
    {
      "cell_type": "code",
      "source": [
        "# Menghitung jumlah nilai null yang ada dalam dataset\n",
        "data.isnull().sum()"
      ],
      "metadata": {
        "colab": {
          "base_uri": "https://localhost:8080/"
        },
        "id": "BQml9kk3OLSJ",
        "outputId": "9898faa4-9e03-4e2e-c200-4601e55e7830"
      },
      "execution_count": 336,
      "outputs": [
        {
          "output_type": "execute_result",
          "data": {
            "text/plain": [
              "id                     0\n",
              "gender                 0\n",
              "age                    0\n",
              "hypertension           0\n",
              "heart_disease          0\n",
              "ever_married           0\n",
              "work_type              0\n",
              "Residence_type         0\n",
              "avg_glucose_level      0\n",
              "bmi                  201\n",
              "smoking_status         0\n",
              "stroke                 0\n",
              "dtype: int64"
            ]
          },
          "metadata": {},
          "execution_count": 336
        }
      ]
    },
    {
      "cell_type": "code",
      "source": [
        "print('Nilai gender : ', pd.unique(data.gender))\n",
        "print('Nilai Residence_type : ', pd.unique(data.Residence_type))\n",
        "print('Nilai smoking_status : ', pd.unique(data.smoking_status))\n",
        "\n",
        "print('Jumlah gender Other : ', (data.gender == 'Other').sum())\n",
        "print('Jumlah gender Unknown : ', (data.smoking_status == 'Unknown').sum())"
      ],
      "metadata": {
        "colab": {
          "base_uri": "https://localhost:8080/"
        },
        "id": "w1YPIU8iPiyM",
        "outputId": "b0059263-9bcc-4bad-cdd5-b5b7fd7539c9"
      },
      "execution_count": 337,
      "outputs": [
        {
          "output_type": "stream",
          "name": "stdout",
          "text": [
            "Nilai gender :  ['Male' 'Female' 'Other']\n",
            "Nilai Residence_type :  ['Urban' 'Rural']\n",
            "Nilai smoking_status :  ['formerly smoked' 'never smoked' 'smokes' 'Unknown']\n",
            "Jumlah gender Other :  1\n",
            "Jumlah gender Unknown :  1544\n"
          ]
        }
      ]
    },
    {
      "cell_type": "code",
      "source": [
        "# Menghapus kolom id\n",
        "data = data.drop(['id'], axis=1)\n",
        "\n",
        "# Menghapus data dengan nilai gender Other\n",
        "data = data.drop(index=data[data.gender == 'Other'].index)\n",
        "\n",
        "# Menghapus data missing values dari seluruh dataset \n",
        "data = data.dropna()\n",
        "\n",
        "# Mengecek informasi dataset\n",
        "data.info()"
      ],
      "metadata": {
        "colab": {
          "base_uri": "https://localhost:8080/"
        },
        "id": "4lLaoKnxUEvI",
        "outputId": "fb13162b-3bc1-440b-d404-10855aed5b3e"
      },
      "execution_count": 338,
      "outputs": [
        {
          "output_type": "stream",
          "name": "stdout",
          "text": [
            "<class 'pandas.core.frame.DataFrame'>\n",
            "Int64Index: 4908 entries, 0 to 5109\n",
            "Data columns (total 11 columns):\n",
            " #   Column             Non-Null Count  Dtype  \n",
            "---  ------             --------------  -----  \n",
            " 0   gender             4908 non-null   object \n",
            " 1   age                4908 non-null   float64\n",
            " 2   hypertension       4908 non-null   int64  \n",
            " 3   heart_disease      4908 non-null   int64  \n",
            " 4   ever_married       4908 non-null   object \n",
            " 5   work_type          4908 non-null   object \n",
            " 6   Residence_type     4908 non-null   object \n",
            " 7   avg_glucose_level  4908 non-null   float64\n",
            " 8   bmi                4908 non-null   float64\n",
            " 9   smoking_status     4908 non-null   object \n",
            " 10  stroke             4908 non-null   int64  \n",
            "dtypes: float64(3), int64(3), object(5)\n",
            "memory usage: 460.1+ KB\n"
          ]
        }
      ]
    },
    {
      "cell_type": "code",
      "source": [
        "# Memberi Label untuk fitur atau atribut categorical\n",
        "label_encoder = LabelEncoder()\n",
        "data['gender'] = pd.DataFrame(label_encoder.fit_transform(data['gender']), index=data.index)\n",
        "data['ever_married'] = pd.DataFrame(label_encoder.fit_transform(data['ever_married']), index=data.index)\n",
        "data['work_type'] = pd.DataFrame(label_encoder.fit_transform(data['work_type']), index=data.index)\n",
        "data['Residence_type'] = pd.DataFrame(label_encoder.fit_transform(data['Residence_type']), index=data.index)\n",
        "data['smoking_status'] = pd.DataFrame(label_encoder.fit_transform(data['smoking_status']), index=data.index)"
      ],
      "metadata": {
        "id": "uVaHigpak4Oo"
      },
      "execution_count": 339,
      "outputs": []
    },
    {
      "cell_type": "code",
      "source": [
        "# Mengecek data outlier pada fitur age\n",
        "sns.boxplot(x=data['age'])"
      ],
      "metadata": {
        "colab": {
          "base_uri": "https://localhost:8080/",
          "height": 296
        },
        "id": "CZpE341Mv0nF",
        "outputId": "c81485c6-5c11-4385-f0b0-95a895795910"
      },
      "execution_count": 340,
      "outputs": [
        {
          "output_type": "execute_result",
          "data": {
            "text/plain": [
              "<matplotlib.axes._subplots.AxesSubplot at 0x7f90a28acc70>"
            ]
          },
          "metadata": {},
          "execution_count": 340
        },
        {
          "output_type": "display_data",
          "data": {
            "text/plain": [
              "<Figure size 432x288 with 1 Axes>"
            ],
            "image/png": "[encoded data removed]"
          },
          "metadata": {
            "needs_background": "light"
          }
        }
      ]
    },
    {
      "cell_type": "code",
      "source": [
        "# Mengecek data outlier pada fitur work_type\n",
        "sns.boxplot(x=data['work_type'])"
      ],
      "metadata": {
        "colab": {
          "base_uri": "https://localhost:8080/",
          "height": 297
        },
        "id": "Mz8AhwUAv6Od",
        "outputId": "bd1190e8-a3ce-48fc-870a-b732dc4d5974"
      },
      "execution_count": 341,
      "outputs": [
        {
          "output_type": "execute_result",
          "data": {
            "text/plain": [
              "<matplotlib.axes._subplots.AxesSubplot at 0x7f90a1ec4a00>"
            ]
          },
          "metadata": {},
          "execution_count": 341
        },
        {
          "output_type": "display_data",
          "data": {
            "text/plain": [
              "<Figure size 432x288 with 1 Axes>"
            ],
            "image/png": "[encoded data removed]"
          },
          "metadata": {
            "needs_background": "light"
          }
        }
      ]
    },
    {
      "cell_type": "code",
      "source": [
        "# Mengecek data outlier pada fitur avg_glucose_level\n",
        "sns.boxplot(x=data['avg_glucose_level'])"
      ],
      "metadata": {
        "colab": {
          "base_uri": "https://localhost:8080/",
          "height": 297
        },
        "id": "4zJU9mDRvYDi",
        "outputId": "2e8f9da0-1c16-46be-b110-73dd4af19410"
      },
      "execution_count": 342,
      "outputs": [
        {
          "output_type": "execute_result",
          "data": {
            "text/plain": [
              "<matplotlib.axes._subplots.AxesSubplot at 0x7f90a1f17f70>"
            ]
          },
          "metadata": {},
          "execution_count": 342
        },
        {
          "output_type": "display_data",
          "data": {
            "text/plain": [
              "<Figure size 432x288 with 1 Axes>"
            ],
            "image/png": "[encoded data removed]"
          },
          "metadata": {
            "needs_background": "light"
          }
        }
      ]
    },
    {
      "cell_type": "code",
      "source": [
        "# Mengecek data outlier pada fitur bmi\n",
        "sns.boxplot(x=data['bmi'])"
      ],
      "metadata": {
        "colab": {
          "base_uri": "https://localhost:8080/",
          "height": 296
        },
        "id": "qmIH9s04vqQF",
        "outputId": "b3ac2daa-ceba-4948-f6cf-33a1ff079e5c"
      },
      "execution_count": 343,
      "outputs": [
        {
          "output_type": "execute_result",
          "data": {
            "text/plain": [
              "<matplotlib.axes._subplots.AxesSubplot at 0x7f90a1f7cfa0>"
            ]
          },
          "metadata": {},
          "execution_count": 343
        },
        {
          "output_type": "display_data",
          "data": {
            "text/plain": [
              "<Figure size 432x288 with 1 Axes>"
            ],
            "image/png": "[encoded data removed]"
          },
          "metadata": {
            "needs_background": "light"
          }
        }
      ]
    },
    {
      "cell_type": "code",
      "source": [
        "# Menghapus data outliers\n",
        "Q1 = data['avg_glucose_level'].quantile(0.25)\n",
        "Q3 = data['avg_glucose_level'].quantile(0.75)\n",
        "IQR=Q3-Q1\n",
        "data['avg_glucose_level']=data['avg_glucose_level'][~((data['avg_glucose_level']<(Q1-1.5*IQR))|(data['avg_glucose_level']>(Q3+1.5*IQR)))]\n",
        "\n",
        "# Mengecek data outlier pada fitur avg_glucose_level\n",
        "sns.boxplot(x=data['avg_glucose_level'])"
      ],
      "metadata": {
        "colab": {
          "base_uri": "https://localhost:8080/",
          "height": 297
        },
        "id": "dNrapQf8wPCq",
        "outputId": "911a0710-fcdd-4fbf-aba5-e63002d6ba83"
      },
      "execution_count": 344,
      "outputs": [
        {
          "output_type": "execute_result",
          "data": {
            "text/plain": [
              "<matplotlib.axes._subplots.AxesSubplot at 0x7f90a1fbe9d0>"
            ]
          },
          "metadata": {},
          "execution_count": 344
        },
        {
          "output_type": "display_data",
          "data": {
            "text/plain": [
              "<Figure size 432x288 with 1 Axes>"
            ],
            "image/png": "[encoded data removed]"
          },
          "metadata": {
            "needs_background": "light"
          }
        }
      ]
    },
    {
      "cell_type": "code",
      "source": [
        "# Menghapus data outliers\n",
        "Q1 = data['avg_glucose_level'].quantile(0.25)\n",
        "Q3 = data['avg_glucose_level'].quantile(0.75)\n",
        "IQR=Q3-Q1\n",
        "data['avg_glucose_level']=data['avg_glucose_level'][~((data['avg_glucose_level']<(Q1-1.5*IQR))|(data['avg_glucose_level']>(Q3+1.5*IQR)))]\n",
        "\n",
        "# Mengecek data outlier pada fitur avg_glucose_level\n",
        "sns.boxplot(x=data['avg_glucose_level'])"
      ],
      "metadata": {
        "colab": {
          "base_uri": "https://localhost:8080/",
          "height": 297
        },
        "id": "h1DRewIq04hG",
        "outputId": "8a34059b-4e70-4a4f-d28e-4955f617fda9"
      },
      "execution_count": 345,
      "outputs": [
        {
          "output_type": "execute_result",
          "data": {
            "text/plain": [
              "<matplotlib.axes._subplots.AxesSubplot at 0x7f90a18737f0>"
            ]
          },
          "metadata": {},
          "execution_count": 345
        },
        {
          "output_type": "display_data",
          "data": {
            "text/plain": [
              "<Figure size 432x288 with 1 Axes>"
            ],
            "image/png": "[encoded data removed]"
          },
          "metadata": {
            "needs_background": "light"
          }
        }
      ]
    },
    {
      "cell_type": "code",
      "source": [
        "# Menghapus data outliers\n",
        "Q1 = data['avg_glucose_level'].quantile(0.25)\n",
        "Q3 = data['avg_glucose_level'].quantile(0.75)\n",
        "IQR=Q3-Q1\n",
        "data['avg_glucose_level']=data['avg_glucose_level'][~((data['avg_glucose_level']<(Q1-1.5*IQR))|(data['avg_glucose_level']>(Q3+1.5*IQR)))]\n",
        "\n",
        "# Mengecek data outlier pada fitur avg_glucose_level\n",
        "sns.boxplot(x=data['avg_glucose_level'])"
      ],
      "metadata": {
        "colab": {
          "base_uri": "https://localhost:8080/",
          "height": 297
        },
        "id": "sji4F_Sf066N",
        "outputId": "e4dd2664-efd4-4524-a80b-585ffe1499df"
      },
      "execution_count": 346,
      "outputs": [
        {
          "output_type": "execute_result",
          "data": {
            "text/plain": [
              "<matplotlib.axes._subplots.AxesSubplot at 0x7f90a1852460>"
            ]
          },
          "metadata": {},
          "execution_count": 346
        },
        {
          "output_type": "display_data",
          "data": {
            "text/plain": [
              "<Figure size 432x288 with 1 Axes>"
            ],
            "image/png": "[encoded data removed]"
          },
          "metadata": {
            "needs_background": "light"
          }
        }
      ]
    },
    {
      "cell_type": "code",
      "source": [
        "# Menghapus data outliers\n",
        "Q1 = data['avg_glucose_level'].quantile(0.25)\n",
        "Q3 = data['avg_glucose_level'].quantile(0.75)\n",
        "IQR=Q3-Q1\n",
        "data['avg_glucose_level']=data['avg_glucose_level'][~((data['avg_glucose_level']<(Q1-1.5*IQR))|(data['avg_glucose_level']>(Q3+1.5*IQR)))]\n",
        "\n",
        "# Mengecek data outlier pada fitur avg_glucose_level\n",
        "sns.boxplot(x=data['avg_glucose_level'])"
      ],
      "metadata": {
        "colab": {
          "base_uri": "https://localhost:8080/",
          "height": 297
        },
        "id": "EccwaP4w08K4",
        "outputId": "d1ea05b0-c815-4346-fc91-414eb5441f12"
      },
      "execution_count": 347,
      "outputs": [
        {
          "output_type": "execute_result",
          "data": {
            "text/plain": [
              "<matplotlib.axes._subplots.AxesSubplot at 0x7f90a1877250>"
            ]
          },
          "metadata": {},
          "execution_count": 347
        },
        {
          "output_type": "display_data",
          "data": {
            "text/plain": [
              "<Figure size 432x288 with 1 Axes>"
            ],
            "image/png": "[encoded data removed]"
          },
          "metadata": {
            "needs_background": "light"
          }
        }
      ]
    },
    {
      "cell_type": "code",
      "source": [
        "# Menghapus data outliers\n",
        "Q1 = data['avg_glucose_level'].quantile(0.25)\n",
        "Q3 = data['avg_glucose_level'].quantile(0.75)\n",
        "IQR=Q3-Q1\n",
        "data['avg_glucose_level']=data['avg_glucose_level'][~((data['avg_glucose_level']<(Q1-1.5*IQR))|(data['avg_glucose_level']>(Q3+1.5*IQR)))]\n",
        "\n",
        "# Mengecek data outlier pada fitur avg_glucose_level\n",
        "sns.boxplot(x=data['avg_glucose_level'])"
      ],
      "metadata": {
        "colab": {
          "base_uri": "https://localhost:8080/",
          "height": 297
        },
        "id": "6Bs79pMB09rV",
        "outputId": "632f2c28-16c8-47cf-c698-fce19126d494"
      },
      "execution_count": 348,
      "outputs": [
        {
          "output_type": "execute_result",
          "data": {
            "text/plain": [
              "<matplotlib.axes._subplots.AxesSubplot at 0x7f90a1823f10>"
            ]
          },
          "metadata": {},
          "execution_count": 348
        },
        {
          "output_type": "display_data",
          "data": {
            "text/plain": [
              "<Figure size 432x288 with 1 Axes>"
            ],
            "image/png": "[encoded data removed]"
          },
          "metadata": {
            "needs_background": "light"
          }
        }
      ]
    },
    {
      "cell_type": "code",
      "source": [
        "Q1 = data['work_type'].quantile(0.25)\n",
        "Q3 = data['work_type'].quantile(0.75)\n",
        "IQR=Q3-Q1\n",
        "data['work_type']=data['work_type'][~((data['work_type']<(Q1-1.5*IQR))|(data['work_type']>(Q3+1.5*IQR)))]\n",
        "\n",
        "# Mengecek data outlier pada fitur work_type\n",
        "sns.boxplot(x=data['work_type'])"
      ],
      "metadata": {
        "colab": {
          "base_uri": "https://localhost:8080/",
          "height": 297
        },
        "id": "gVqNQAXq0Zx4",
        "outputId": "0e6c94d5-6a64-4ab4-8e2c-ff7eeaa72720"
      },
      "execution_count": 349,
      "outputs": [
        {
          "output_type": "execute_result",
          "data": {
            "text/plain": [
              "<matplotlib.axes._subplots.AxesSubplot at 0x7f90a174f610>"
            ]
          },
          "metadata": {},
          "execution_count": 349
        },
        {
          "output_type": "display_data",
          "data": {
            "text/plain": [
              "<Figure size 432x288 with 1 Axes>"
            ],
            "image/png": "[encoded data removed]"
          },
          "metadata": {
            "needs_background": "light"
          }
        }
      ]
    },
    {
      "cell_type": "code",
      "source": [
        "Q1 = data['bmi'].quantile(0.25)\n",
        "Q3 = data['bmi'].quantile(0.75)\n",
        "IQR=Q3-Q1\n",
        "data['bmi']=data['bmi'][~((data['bmi']<(Q1-1.5*IQR))|(data['bmi']>(Q3+1.5*IQR)))]\n",
        "\n",
        "# Mengecek data outlier pada fitur bmi\n",
        "sns.boxplot(x=data['bmi'])"
      ],
      "metadata": {
        "colab": {
          "base_uri": "https://localhost:8080/",
          "height": 296
        },
        "id": "0td99xGT0gCa",
        "outputId": "755f410d-0125-4faa-8f25-2616dec16a72"
      },
      "execution_count": 350,
      "outputs": [
        {
          "output_type": "execute_result",
          "data": {
            "text/plain": [
              "<matplotlib.axes._subplots.AxesSubplot at 0x7f90a16b19a0>"
            ]
          },
          "metadata": {},
          "execution_count": 350
        },
        {
          "output_type": "display_data",
          "data": {
            "text/plain": [
              "<Figure size 432x288 with 1 Axes>"
            ],
            "image/png": "[encoded data removed]"
          },
          "metadata": {
            "needs_background": "light"
          }
        }
      ]
    },
    {
      "cell_type": "code",
      "source": [
        "Q1 = data['bmi'].quantile(0.25)\n",
        "Q3 = data['bmi'].quantile(0.75)\n",
        "IQR=Q3-Q1\n",
        "data['bmi']=data['bmi'][~((data['bmi']<(Q1-1.5*IQR))|(data['bmi']>(Q3+1.5*IQR)))]\n",
        "\n",
        "# Mengecek data outlier pada fitur bmi\n",
        "sns.boxplot(x=data['bmi'])"
      ],
      "metadata": {
        "colab": {
          "base_uri": "https://localhost:8080/",
          "height": 296
        },
        "id": "CB2e2Obn1BeA",
        "outputId": "70b3e8f3-633a-496b-dbb2-039b31b94200"
      },
      "execution_count": 351,
      "outputs": [
        {
          "output_type": "execute_result",
          "data": {
            "text/plain": [
              "<matplotlib.axes._subplots.AxesSubplot at 0x7f90a1694040>"
            ]
          },
          "metadata": {},
          "execution_count": 351
        },
        {
          "output_type": "display_data",
          "data": {
            "text/plain": [
              "<Figure size 432x288 with 1 Axes>"
            ],
            "image/png": "[encoded data removed]"
          },
          "metadata": {
            "needs_background": "light"
          }
        }
      ]
    },
    {
      "cell_type": "code",
      "source": [
        "# menghapus nilai nulll\n",
        "data = data.dropna()\n",
        "\n",
        "# Melihat informasi dataset\n",
        "data.info()"
      ],
      "metadata": {
        "colab": {
          "base_uri": "https://localhost:8080/"
        },
        "id": "a_pttqAowlfZ",
        "outputId": "b46b098c-16cc-4490-b3ba-96dcebd1fd7b"
      },
      "execution_count": 352,
      "outputs": [
        {
          "output_type": "stream",
          "name": "stdout",
          "text": [
            "<class 'pandas.core.frame.DataFrame'>\n",
            "Int64Index: 3584 entries, 2 to 5107\n",
            "Data columns (total 11 columns):\n",
            " #   Column             Non-Null Count  Dtype  \n",
            "---  ------             --------------  -----  \n",
            " 0   gender             3584 non-null   int64  \n",
            " 1   age                3584 non-null   float64\n",
            " 2   hypertension       3584 non-null   int64  \n",
            " 3   heart_disease      3584 non-null   int64  \n",
            " 4   ever_married       3584 non-null   int64  \n",
            " 5   work_type          3584 non-null   float64\n",
            " 6   Residence_type     3584 non-null   int64  \n",
            " 7   avg_glucose_level  3584 non-null   float64\n",
            " 8   bmi                3584 non-null   float64\n",
            " 9   smoking_status     3584 non-null   int64  \n",
            " 10  stroke             3584 non-null   int64  \n",
            "dtypes: float64(4), int64(7)\n",
            "memory usage: 336.0 KB\n"
          ]
        }
      ]
    },
    {
      "cell_type": "code",
      "source": [
        "X = data.drop(['stroke'], axis=1)\n",
        "Y = data['stroke']\n",
        "\n",
        "# Membagi dataset menjadi data latih (train) dan data uji (test)\n",
        "X_train, X_test, Y_train, Y_test = train_test_split(X, Y, test_size = 0.2, random_state = 43)"
      ],
      "metadata": {
        "id": "YLxLUXvjfUPb"
      },
      "execution_count": 353,
      "outputs": []
    },
    {
      "cell_type": "code",
      "source": [
        "# membuat model Support Vector Classification (SVC)\n",
        "svm = SVC()\n",
        "\n",
        "# melakukan pelatihan model terhadap data\n",
        "svm.fit(X_train, Y_train)"
      ],
      "metadata": {
        "colab": {
          "base_uri": "https://localhost:8080/"
        },
        "id": "piYNPiI7v8cE",
        "outputId": "8c99bc3e-4cb0-4990-a695-c372bcc2d92b"
      },
      "execution_count": 354,
      "outputs": [
        {
          "output_type": "execute_result",
          "data": {
            "text/plain": [
              "SVC()"
            ]
          },
          "metadata": {},
          "execution_count": 354
        }
      ]
    },
    {
      "cell_type": "code",
      "source": [
        "# Mengukur skor akurasi pada data training\n",
        "Y_pred_train = svm.predict(X_train)\n",
        "print('accuracy_score : ', accuracy_score(Y_train, Y_pred_train))"
      ],
      "metadata": {
        "colab": {
          "base_uri": "https://localhost:8080/"
        },
        "id": "1izvVotlyx8G",
        "outputId": "fecc8aac-1358-4bb9-ac85-3d200902cfd8"
      },
      "execution_count": 355,
      "outputs": [
        {
          "output_type": "stream",
          "name": "stdout",
          "text": [
            "accuracy_score :  0.9696546913149634\n"
          ]
        }
      ]
    },
    {
      "cell_type": "code",
      "source": [
        "# Mengukur skor akurasi pada data testing\n",
        "Y_pred_test = svm.predict(X_test)\n",
        "print('accuracy_score : ', accuracy_score(Y_test, Y_pred_test))"
      ],
      "metadata": {
        "colab": {
          "base_uri": "https://localhost:8080/"
        },
        "id": "oMGIToQNxIZb",
        "outputId": "508789ce-ade4-4480-95c4-7f2f6bfa9e8a"
      },
      "execution_count": 356,
      "outputs": [
        {
          "output_type": "stream",
          "name": "stdout",
          "text": [
            "accuracy_score :  0.9637377963737797\n"
          ]
        }
      ]
    },
    {
      "cell_type": "code",
      "source": [
        "# TESTING DATA SEMBARANG\n",
        "# 1. gender = 0 (Perempuan) & 1 (Laki-Laki)\n",
        "# 2. age\n",
        "# 3. hypertension = 0 (Tidak) & 1 (Ya)\n",
        "# 4. heart_disease = 0 (Tidak) & 1 (Ya)\n",
        "# 5. ever_married = 0 (Tidak) & 1 (Ya)\n",
        "# 6. work_type = 0 (Govt_job) & 1 (Never_worked) & 2 (Private) & 3 (Self-employed) & 4 (children)\n",
        "# 7. Residence_type = 0 (Rural) & 1 (Urban)\n",
        "# 8. avg_glucose_level\n",
        "# 9. bmi\n",
        "# 10. smoking_status = 0 (Unknown) & 1 (formerly smoked) & 2 (never smoked) & 3 (smokes)\n",
        "\n",
        "data_testing_sembarang = {\n",
        "    'gender': [1],\n",
        "    'age': [22],\n",
        "    'hypertension': [1],\n",
        "    'heart_disease': [1],\n",
        "    'ever_married': [1],\n",
        "    'work_type': [2],\n",
        "    'Residence_type': [1],\n",
        "    'avg_glucose_level': [172.87],\n",
        "    'bmi': [26.4],\n",
        "    'smoking_status': [1]\n",
        "    }\n",
        "svm.predict(pd.DataFrame(data_testing_sembarang))"
      ],
      "metadata": {
        "colab": {
          "base_uri": "https://localhost:8080/"
        },
        "id": "guMnUKt93wzD",
        "outputId": "58307ac2-3b79-42a2-aafa-fb6792bd2655"
      },
      "execution_count": 357,
      "outputs": [
        {
          "output_type": "execute_result",
          "data": {
            "text/plain": [
              "array([0])"
            ]
          },
          "metadata": {},
          "execution_count": 357
        }
      ]
    }
  ]
}